{
 "cells": [
  {
   "cell_type": "code",
   "execution_count": 2,
   "metadata": {},
   "outputs": [],
   "source": [
    "import pandas as pd\n",
    "import numpy as np\n",
    "import matplotlib.pyplot as plt\n",
    "import seaborn as sns\n",
    "import csv"
   ]
  },
  {
   "cell_type": "code",
   "execution_count": 3,
   "metadata": {},
   "outputs": [],
   "source": [
    "#Load dataset\n",
    "\n",
    "titles = pd.read_csv(\"Listing_Titles.tsv\", sep=\"\\t\", dtype=str, keep_default_na=False, na_values=[\"\"], quoting=csv.QUOTE_NONE)\n",
    "dev_df = pd.read_csv(\"Train_Tagged_Titles.tsv\", sep=\"\\t\", dtype=str, keep_default_na=False, na_values=[\"\"], quoting=csv.QUOTE_NONE)\n"
   ]
  },
  {
   "cell_type": "code",
   "execution_count": 4,
   "metadata": {},
   "outputs": [
    {
     "name": "stderr",
     "output_type": "stream",
     "text": [
      "/var/folders/7w/8xc_pk4n6zg1zdkphtnj8r5c0000gn/T/ipykernel_45246/2685090846.py:2: FutureWarning: Series.fillna with 'method' is deprecated and will raise in a future version. Use obj.ffill() or obj.bfill() instead.\n",
      "  dev_df['Tag'].fillna(method='ffill', inplace=True)\n"
     ]
    }
   ],
   "source": [
    "#fill the missing values in the Tag column with ffill\n",
    "dev_df['Tag'].fillna(method='ffill', inplace=True)"
   ]
  },
  {
   "cell_type": "code",
   "execution_count": 5,
   "metadata": {},
   "outputs": [
    {
     "data": {
      "text/html": [
       "<div>\n",
       "<style scoped>\n",
       "    .dataframe tbody tr th:only-of-type {\n",
       "        vertical-align: middle;\n",
       "    }\n",
       "\n",
       "    .dataframe tbody tr th {\n",
       "        vertical-align: top;\n",
       "    }\n",
       "\n",
       "    .dataframe thead th {\n",
       "        text-align: right;\n",
       "    }\n",
       "</style>\n",
       "<table border=\"1\" class=\"dataframe\">\n",
       "  <thead>\n",
       "    <tr style=\"text-align: right;\">\n",
       "      <th></th>\n",
       "      <th>Record Number</th>\n",
       "      <th>Title</th>\n",
       "      <th>Token</th>\n",
       "      <th>Tag</th>\n",
       "    </tr>\n",
       "  </thead>\n",
       "  <tbody>\n",
       "    <tr>\n",
       "      <th>0</th>\n",
       "      <td>1</td>\n",
       "      <td>Supreme Nike SB Dunk High By any Means Red US1...</td>\n",
       "      <td>Supreme</td>\n",
       "      <td>Modell</td>\n",
       "    </tr>\n",
       "    <tr>\n",
       "      <th>1</th>\n",
       "      <td>1</td>\n",
       "      <td>Supreme Nike SB Dunk High By any Means Red US1...</td>\n",
       "      <td>Nike</td>\n",
       "      <td>Marke</td>\n",
       "    </tr>\n",
       "    <tr>\n",
       "      <th>2</th>\n",
       "      <td>1</td>\n",
       "      <td>Supreme Nike SB Dunk High By any Means Red US1...</td>\n",
       "      <td>SB</td>\n",
       "      <td>Produktlinie</td>\n",
       "    </tr>\n",
       "    <tr>\n",
       "      <th>3</th>\n",
       "      <td>1</td>\n",
       "      <td>Supreme Nike SB Dunk High By any Means Red US1...</td>\n",
       "      <td>Dunk</td>\n",
       "      <td>Produktlinie</td>\n",
       "    </tr>\n",
       "    <tr>\n",
       "      <th>4</th>\n",
       "      <td>1</td>\n",
       "      <td>Supreme Nike SB Dunk High By any Means Red US1...</td>\n",
       "      <td>High</td>\n",
       "      <td>Schuhschaft-Typ</td>\n",
       "    </tr>\n",
       "  </tbody>\n",
       "</table>\n",
       "</div>"
      ],
      "text/plain": [
       "  Record Number                                              Title    Token  \\\n",
       "0             1  Supreme Nike SB Dunk High By any Means Red US1...  Supreme   \n",
       "1             1  Supreme Nike SB Dunk High By any Means Red US1...     Nike   \n",
       "2             1  Supreme Nike SB Dunk High By any Means Red US1...       SB   \n",
       "3             1  Supreme Nike SB Dunk High By any Means Red US1...     Dunk   \n",
       "4             1  Supreme Nike SB Dunk High By any Means Red US1...     High   \n",
       "\n",
       "               Tag  \n",
       "0           Modell  \n",
       "1            Marke  \n",
       "2     Produktlinie  \n",
       "3     Produktlinie  \n",
       "4  Schuhschaft-Typ  "
      ]
     },
     "execution_count": 5,
     "metadata": {},
     "output_type": "execute_result"
    }
   ],
   "source": [
    "dev_df.head()"
   ]
  },
  {
   "cell_type": "code",
   "execution_count": 6,
   "metadata": {},
   "outputs": [
    {
     "data": {
      "text/plain": [
       "Record Number    0\n",
       "Title            0\n",
       "Token            0\n",
       "Tag              0\n",
       "dtype: int64"
      ]
     },
     "execution_count": 6,
     "metadata": {},
     "output_type": "execute_result"
    }
   ],
   "source": [
    "#check for missing values\n",
    "dev_df.isnull().sum()"
   ]
  },
  {
   "cell_type": "code",
   "execution_count": 7,
   "metadata": {},
   "outputs": [
    {
     "data": {
      "text/html": [
       "<div>\n",
       "<style scoped>\n",
       "    .dataframe tbody tr th:only-of-type {\n",
       "        vertical-align: middle;\n",
       "    }\n",
       "\n",
       "    .dataframe tbody tr th {\n",
       "        vertical-align: top;\n",
       "    }\n",
       "\n",
       "    .dataframe thead th {\n",
       "        text-align: right;\n",
       "    }\n",
       "</style>\n",
       "<table border=\"1\" class=\"dataframe\">\n",
       "  <thead>\n",
       "    <tr style=\"text-align: right;\">\n",
       "      <th></th>\n",
       "      <th>Record Number</th>\n",
       "      <th>Title</th>\n",
       "      <th>Token</th>\n",
       "      <th>Tag</th>\n",
       "      <th>Token_Title</th>\n",
       "    </tr>\n",
       "  </thead>\n",
       "  <tbody>\n",
       "    <tr>\n",
       "      <th>0</th>\n",
       "      <td>1</td>\n",
       "      <td>Supreme Nike SB Dunk High By any Means Red US1...</td>\n",
       "      <td>Supreme</td>\n",
       "      <td>Modell</td>\n",
       "      <td>Supreme Nike SB Dunk High By any Means Red US1...</td>\n",
       "    </tr>\n",
       "    <tr>\n",
       "      <th>1</th>\n",
       "      <td>1</td>\n",
       "      <td>Supreme Nike SB Dunk High By any Means Red US1...</td>\n",
       "      <td>Nike</td>\n",
       "      <td>Marke</td>\n",
       "      <td>Supreme Nike SB Dunk High By any Means Red US1...</td>\n",
       "    </tr>\n",
       "    <tr>\n",
       "      <th>2</th>\n",
       "      <td>1</td>\n",
       "      <td>Supreme Nike SB Dunk High By any Means Red US1...</td>\n",
       "      <td>SB</td>\n",
       "      <td>Produktlinie</td>\n",
       "      <td>Supreme Nike SB Dunk High By any Means Red US1...</td>\n",
       "    </tr>\n",
       "    <tr>\n",
       "      <th>3</th>\n",
       "      <td>1</td>\n",
       "      <td>Supreme Nike SB Dunk High By any Means Red US1...</td>\n",
       "      <td>Dunk</td>\n",
       "      <td>Produktlinie</td>\n",
       "      <td>Supreme Nike SB Dunk High By any Means Red US1...</td>\n",
       "    </tr>\n",
       "    <tr>\n",
       "      <th>4</th>\n",
       "      <td>1</td>\n",
       "      <td>Supreme Nike SB Dunk High By any Means Red US1...</td>\n",
       "      <td>High</td>\n",
       "      <td>Schuhschaft-Typ</td>\n",
       "      <td>Supreme Nike SB Dunk High By any Means Red US1...</td>\n",
       "    </tr>\n",
       "  </tbody>\n",
       "</table>\n",
       "</div>"
      ],
      "text/plain": [
       "  Record Number                                              Title    Token  \\\n",
       "0             1  Supreme Nike SB Dunk High By any Means Red US1...  Supreme   \n",
       "1             1  Supreme Nike SB Dunk High By any Means Red US1...     Nike   \n",
       "2             1  Supreme Nike SB Dunk High By any Means Red US1...       SB   \n",
       "3             1  Supreme Nike SB Dunk High By any Means Red US1...     Dunk   \n",
       "4             1  Supreme Nike SB Dunk High By any Means Red US1...     High   \n",
       "\n",
       "               Tag                                        Token_Title  \n",
       "0           Modell  Supreme Nike SB Dunk High By any Means Red US1...  \n",
       "1            Marke  Supreme Nike SB Dunk High By any Means Red US1...  \n",
       "2     Produktlinie  Supreme Nike SB Dunk High By any Means Red US1...  \n",
       "3     Produktlinie  Supreme Nike SB Dunk High By any Means Red US1...  \n",
       "4  Schuhschaft-Typ  Supreme Nike SB Dunk High By any Means Red US1...  "
      ]
     },
     "execution_count": 7,
     "metadata": {},
     "output_type": "execute_result"
    }
   ],
   "source": [
    "#Concatenate the Title and Token columns in dev_df\n",
    "dev_df[\"Token_Title\"] = dev_df[\"Title\"] + \" \" + dev_df[\"Token\"]\n",
    "dev_df.head()\n"
   ]
  },
  {
   "cell_type": "code",
   "execution_count": 8,
   "metadata": {},
   "outputs": [],
   "source": [
    "#split the data into training and testing sets\n",
    "from sklearn.model_selection import train_test_split\n",
    "\n",
    "X = dev_df[\"Token_Title\"]\n",
    "y = dev_df[\"Tag\"]\n",
    "\n",
    "X_train, X_test, y_train, y_test = train_test_split(X, y, stratify=y)\n"
   ]
  },
  {
   "cell_type": "code",
   "execution_count": 9,
   "metadata": {},
   "outputs": [
    {
     "name": "stderr",
     "output_type": "stream",
     "text": [
      "Some weights of the model checkpoint at bert-base-uncased were not used when initializing BertModel: ['cls.predictions.transform.LayerNorm.weight', 'cls.seq_relationship.weight', 'cls.predictions.transform.dense.bias', 'cls.seq_relationship.bias', 'cls.predictions.bias', 'cls.predictions.transform.dense.weight', 'cls.predictions.transform.LayerNorm.bias', 'cls.predictions.decoder.weight']\n",
      "- This IS expected if you are initializing BertModel from the checkpoint of a model trained on another task or with another architecture (e.g. initializing a BertForSequenceClassification model from a BertForPreTraining model).\n",
      "- This IS NOT expected if you are initializing BertModel from the checkpoint of a model that you expect to be exactly identical (initializing a BertForSequenceClassification model from a BertForSequenceClassification model).\n"
     ]
    }
   ],
   "source": [
    "import torch\n",
    "from transformers import BertTokenizer, BertModel\n",
    "\n",
    "tokenizer = BertTokenizer.from_pretrained('bert-base-uncased')\n",
    "model = BertModel.from_pretrained('bert-base-uncased')\n"
   ]
  },
  {
   "cell_type": "code",
   "execution_count": 10,
   "metadata": {},
   "outputs": [
    {
     "name": "stdout",
     "output_type": "stream",
     "text": [
      "(41387, 64)\n"
     ]
    }
   ],
   "source": [
    "#tokenize the training and testing sets\n",
    "train_tokens = X_train.apply((lambda x: tokenizer.encode(x, add_special_tokens=True)))\n",
    "test_tokens = X_test.apply((lambda x: tokenizer.encode(x, add_special_tokens=True)))\n",
    "\n",
    "#pad the tokens to the same length\n",
    "from tensorflow.keras.preprocessing.sequence import pad_sequences\n",
    "\n",
    "#pad the tokens to the maximum length of all the tokens\n",
    "\n",
    "train_tokens = pad_sequences(train_tokens, maxlen=50, dtype=\"long\", value=0, truncating=\"post\", padding=\"post\")\n",
    "test_tokens = pad_sequences(test_tokens, maxlen=50, dtype=\"long\", value=0, truncating=\"post\", padding=\"post\")\n",
    "\n",
    "print(train_tokens.shape)\n"
   ]
  },
  {
   "cell_type": "code",
   "execution_count": 29,
   "metadata": {},
   "outputs": [],
   "source": [
    "#convert the tokens to tensors and obtain embeddings <CRASHES KERNEL>\n",
    "\n",
    "train_tokens = torch.tensor(train_tokens)\n",
    "test_tokens = torch.tensor(test_tokens)\n",
    "\n",
    "with torch.no_grad():\n",
    "    train_embeddings = model(train_tokens)\n",
    "    test_embeddings = model(test_tokens)\n",
    "    \n",
    "train_embeddings = train_embeddings[0][:,0,:].numpy()\n",
    "test_embeddings = test_embeddings[0][:,0,:].numpy()"
   ]
  }
 ],
 "metadata": {
  "kernelspec": {
   "display_name": "Python 3",
   "language": "python",
   "name": "python3"
  },
  "language_info": {
   "codemirror_mode": {
    "name": "ipython",
    "version": 3
   },
   "file_extension": ".py",
   "mimetype": "text/x-python",
   "name": "python",
   "nbconvert_exporter": "python",
   "pygments_lexer": "ipython3",
   "version": "3.10.9"
  }
 },
 "nbformat": 4,
 "nbformat_minor": 2
}
